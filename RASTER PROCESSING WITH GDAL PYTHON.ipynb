{
 "cells": [
  {
   "cell_type": "markdown",
   "metadata": {},
   "source": [
    "# RASTER PROCESSING WITH GDAL PYTHON"
   ]
  },
  {
   "cell_type": "markdown",
   "metadata": {},
   "source": [
    "## Loading Package"
   ]
  },
  {
   "cell_type": "code",
   "execution_count": 26,
   "metadata": {},
   "outputs": [],
   "source": [
    "from osgeo import gdal, ogr, osr, gdal_array as gdarr\n",
    "import os\n",
    "import numpy as np\n",
    "import matplotlib.pyplot as plt"
   ]
  },
  {
   "cell_type": "markdown",
   "metadata": {},
   "source": [
    "## working directory and file management"
   ]
  },
  {
   "cell_type": "code",
   "execution_count": 17,
   "metadata": {},
   "outputs": [
    {
     "data": {
      "text/plain": [
       "'E:\\\\2021\\\\TMT\\\\scientific_computing\\\\materials\\\\Geocomputing\\\\3_raster_vector_integration\\\\data\\\\14_raster-vector_integration_data'"
      ]
     },
     "execution_count": 17,
     "metadata": {},
     "output_type": "execute_result"
    }
   ],
   "source": [
    "# loading current working directory\n",
    "os.getcwd()"
   ]
  },
  {
   "cell_type": "code",
   "execution_count": 18,
   "metadata": {},
   "outputs": [],
   "source": [
    "# change directory\n",
    "os.chdir(\"E:\\\\2021\\\\TMT\\\\scientific_computing\\\\materials\\\\Geocomputing\\\\3_raster_vector_integration\\\\data\\\\14_raster-vector_integration_data\")"
   ]
  },
  {
   "cell_type": "code",
   "execution_count": 19,
   "metadata": {},
   "outputs": [
    {
     "data": {
      "text/plain": [
       "['2014.tif',\n",
       " '2014_day1_subset.tif',\n",
       " 'NL_provinces.cpg',\n",
       " 'NL_provinces.dbf',\n",
       " 'NL_provinces.prj',\n",
       " 'NL_provinces.qpj',\n",
       " 'NL_provinces.shp',\n",
       " 'NL_provinces.shp.xml',\n",
       " 'NL_provinces.shx',\n",
       " 'ovRoads.geojson']"
      ]
     },
     "execution_count": 19,
     "metadata": {},
     "output_type": "execute_result"
    }
   ],
   "source": [
    "# to see files within directory\n",
    "os.listdir()"
   ]
  },
  {
   "cell_type": "code",
   "execution_count": 23,
   "metadata": {},
   "outputs": [],
   "source": [
    "# Load raster data (define none to refresh its property. pls check with GIS software)\n",
    "raster = None\n",
    "raster = gdal.Open(\"2014.tif\")"
   ]
  },
  {
   "cell_type": "code",
   "execution_count": 21,
   "metadata": {},
   "outputs": [
    {
     "name": "stdout",
     "output_type": "stream",
     "text": [
      "file opened.\n",
      "file closed.\n"
     ]
    }
   ],
   "source": [
    "print(\"file opened.\")\n",
    "if raster is not None:\n",
    "    raster = None\n",
    "    print(\"file closed.\")"
   ]
  },
  {
   "cell_type": "markdown",
   "metadata": {},
   "source": [
    "skip above cell and run previous cell of the above cell if problem occur"
   ]
  },
  {
   "cell_type": "markdown",
   "metadata": {},
   "source": [
    "## Access to dataset size and projection"
   ]
  },
  {
   "cell_type": "code",
   "execution_count": 24,
   "metadata": {},
   "outputs": [
    {
     "name": "stdout",
     "output_type": "stream",
     "text": [
      "x size:  300  y size:  350\n",
      "\n"
     ]
    }
   ],
   "source": [
    "x = raster.RasterXSize\n",
    "y = raster.RasterYSize\n",
    "print(\"x size: \", x, \" y size: \", y)\n",
    "print()"
   ]
  },
  {
   "cell_type": "code",
   "execution_count": 25,
   "metadata": {},
   "outputs": [
    {
     "name": "stdout",
     "output_type": "stream",
     "text": [
      "raster projection : PROJCS[\"Amersfoort / RD New\",GEOGCS[\"Amersfoort\",DATUM[\"Amersfoort\",SPHEROID[\"Bessel 1841\",6377397.155,299.1528128,AUTHORITY[\"EPSG\",\"7004\"]],TOWGS84[565.4171,50.3319,465.5524,-0.398957,0.343988,-1.8774,4.0725],AUTHORITY[\"EPSG\",\"6289\"]],PRIMEM[\"Greenwich\",0,AUTHORITY[\"EPSG\",\"8901\"]],UNIT[\"degree\",0.0174532925199433,AUTHORITY[\"EPSG\",\"9122\"]],AUTHORITY[\"EPSG\",\"4289\"]],PROJECTION[\"Oblique_Stereographic\"],PARAMETER[\"latitude_of_origin\",52.1561605555556],PARAMETER[\"central_meridian\",5.38763888888889],PARAMETER[\"scale_factor\",0.9999079],PARAMETER[\"false_easting\",155000],PARAMETER[\"false_northing\",463000],UNIT[\"metre\",1,AUTHORITY[\"EPSG\",\"9001\"]],AXIS[\"Easting\",EAST],AXIS[\"Northing\",NORTH],AUTHORITY[\"EPSG\",\"28992\"]]\n",
      "\n"
     ]
    }
   ],
   "source": [
    "p = raster.GetProjection()\n",
    "print(\"raster projection :\", p )\n",
    "print()"
   ]
  },
  {
   "cell_type": "markdown",
   "metadata": {},
   "source": [
    "## Affine Geotransform\n",
    "The affine transform consists of six coefficients:\n",
    "Xgeo = GT(0) + col*GT(1) + row*GT(2)\n",
    "Ygeo = GT(3) + col*GT(4) + row*GT(5)\n",
    "\n",
    "(GT(0), GT(3)): top-left corner of the image\n",
    "GT(1): pixel width\n",
    "GT(5): pixel height\n",
    "Image is north up: GT(2) = GT(4) = 0\n",
    "Not north up: GT(2) and GT(4) the rotation of x and y axis"
   ]
  },
  {
   "cell_type": "code",
   "execution_count": 27,
   "metadata": {},
   "outputs": [
    {
     "data": {
      "text/plain": [
       "(0.0, 1000.0, 0.0, 640000.0, 0.0, -1000.0)"
      ]
     },
     "execution_count": 27,
     "metadata": {},
     "output_type": "execute_result"
    }
   ],
   "source": [
    "raster.GetGeoTransform()"
   ]
  },
  {
   "cell_type": "markdown",
   "metadata": {},
   "source": [
    "Top left corner of the image : (0.0, 640000); Spatial resolution (1000.0, -1000.0); Rotation of XY (0,0) "
   ]
  },
  {
   "cell_type": "markdown",
   "metadata": {},
   "source": [
    "## Access to band information"
   ]
  },
  {
   "cell_type": "code",
   "execution_count": 28,
   "metadata": {},
   "outputs": [
    {
     "name": "stdout",
     "output_type": "stream",
     "text": [
      "min value: None max value None\n",
      "min = 7.73 max = 10.50 mean = 9.19 std = 0.61\n",
      "no data value: -9999.0\n",
      "number of overviews: 0\n"
     ]
    }
   ],
   "source": [
    "band = raster.GetRasterBand(1)\n",
    "min = band.GetMinimum()\n",
    "max = band.GetMaximum()\n",
    "print(\"min value:\", min, \"max value\", max)\n",
    "\n",
    "stats = band.GetStatistics(False, True)\n",
    "\n",
    "print(\"min = %.2f max = %.2f mean = %.2f std = %.2f\" %\n",
    "(stats[0], stats[1], stats[2], stats[3]))\n",
    "print(\"no data value:\", band.GetNoDataValue())\n",
    "print(\"number of overviews:\", band.GetOverviewCount())"
   ]
  },
  {
   "cell_type": "markdown",
   "metadata": {},
   "source": [
    "## Convert from gdal to numpy\n",
    "\n",
    "A gdal object can be converted into a numpy array. This allows to process\n",
    "the raster with numpy. In the end, we can convert back the numpy object\n",
    "to gdal.\n",
    "BandReadAsArray() method converts a gdal band (one band) into a\n",
    "numpy array.\n",
    "DatasetReadAsArray() method converts a gdal dataset (all bands) into a\n",
    "numpy array."
   ]
  },
  {
   "cell_type": "markdown",
   "metadata": {},
   "source": [
    "## Extraction of an individual pixel \n",
    "\n",
    "We need to import both gdal_array and gdal"
   ]
  },
  {
   "cell_type": "code",
   "execution_count": 29,
   "metadata": {},
   "outputs": [
    {
     "name": "stdout",
     "output_type": "stream",
     "text": [
      "<class 'numpy.ndarray'>\n",
      "shape (1, 1)\n",
      "pixelvalue 8.991154\n"
     ]
    }
   ],
   "source": [
    "# use 0;0 for the topleft pixel; -1; -1 for the bottomright\n",
    "xoff = 100\n",
    "yoff = 150\n",
    "# use a window size of 1 pixel, this extracts one single pixel\n",
    "win_xsize = 1\n",
    "win_ysize = 1\n",
    "px = gdarr.BandReadAsArray(band, xoff, yoff, win_xsize, win_ysize)\n",
    "print(type(px))\n",
    "print('shape', px.shape)\n",
    "print(\"pixelvalue\", px[0,0]) # Now it’s a numpy array. Order is y, x or Rows, Columns"
   ]
  },
  {
   "cell_type": "markdown",
   "metadata": {},
   "source": [
    "## Plot an image subset with matplotlib"
   ]
  },
  {
   "cell_type": "code",
   "execution_count": 30,
   "metadata": {},
   "outputs": [
    {
     "data": {
      "image/png": "[encoded data removed]",
      "text/plain": [
       "<Figure size 432x288 with 1 Axes>"
      ]
     },
     "metadata": {
      "needs_background": "light"
     },
     "output_type": "display_data"
    }
   ],
   "source": [
    "# use 0;0 for the topleft pixel; columns-1; rows-1 for the bottomright\n",
    "xoff = 0\n",
    "yoff = 0\n",
    "win_xsize = 273\n",
    "win_ysize = 101\n",
    "px = gdarr.BandReadAsArray(band, xoff, yoff, win_xsize, win_ysize)\n",
    "# replace nodata value by None\n",
    "px[px == -9999] = None # or just use band.GetNoDataValue()\n",
    "plt.imshow(px)\n",
    "plt.show()"
   ]
  },
  {
   "cell_type": "markdown",
   "metadata": {},
   "source": [
    "## Extract entire dataset (all bands) as a three-dim array"
   ]
  },
  {
   "cell_type": "code",
   "execution_count": 31,
   "metadata": {},
   "outputs": [
    {
     "name": "stdout",
     "output_type": "stream",
     "text": [
      "<class 'numpy.ndarray'>\n",
      "shape (365, 101, 273)\n",
      "topleft -9999.0\n",
      "bottomright 8.871047\n"
     ]
    }
   ],
   "source": [
    "# use 0;0 for the topleft pixel;\n",
    "xoff = 0\n",
    "yoff = 0\n",
    "# window size in pixels\n",
    "win_xsize = 273\n",
    "win_ysize = 101\n",
    "px = gdarr.DatasetReadAsArray(raster, xoff, yoff, win_xsize, win_ysize)\n",
    "print(type(px))\n",
    "print('shape', px.shape)\n",
    "print('topleft', px[0,0,0])\n",
    "# Now it’s a numpy array. Order is - Day, y, x or Depth, Rows, Columns\n",
    "print('bottomright', px[0,-1,-1])\n",
    "# Now it’s a numpy array. order is - Day, y, x or Depth, Rows, Columns"
   ]
  },
  {
   "cell_type": "markdown",
   "metadata": {},
   "source": [
    "## How to save a gdal raster image\n",
    "Example converting from numpy to gdal\n",
    "1 – Create a gdal driver with the preferred raster format (tif; img; csv;\n",
    "arcinfo etc). This is needed to save the raster into a specific format.\n",
    "2 – Create a new raster;\n",
    "3 – Assign a projection to the new raster;\n",
    "4 – Assign a geotransform to the new raster;\n",
    "5 – Create one (or more) empty band/s;\n",
    "6 – Write the numpy array to one or more bands;\n",
    "band.WriteArray() method writes one two-dim numpy array into one\n",
    "band.\n",
    "7 – Set a no data value;\n",
    "8 – Flush cache and clean the band variable to save data to disk.\n",
    "9 - Set New band and New raster None to refresh values in the HDD.(check with GIS software or here)"
   ]
  },
  {
   "cell_type": "code",
   "execution_count": 32,
   "metadata": {},
   "outputs": [
    {
     "name": "stdout",
     "output_type": "stream",
     "text": [
      "Finished!\n"
     ]
    }
   ],
   "source": [
    "band = raster.GetRasterBand(1)\n",
    "xoff = 0\n",
    "yoff = 0\n",
    "win_xsize = 200\n",
    "win_ysize = 200\n",
    "arr = gdarr.BandReadAsArray(band, xoff, yoff, win_xsize, win_ysize)\n",
    "#driver=raster.GetDriver() # Use the same format as the original image\n",
    "# or\n",
    "driver = gdal.GetDriverByName('GTiff') # we can choose a diferent format e.g. XYZ\n",
    "newRaster = driver.Create('2014_day1_subset.tif',arr.shape[1],arr.shape[0], 1,\n",
    "gdal.GDT_Float32)\n",
    "prj = raster.GetProjection() # define new raster dataset proj. & geotransform\n",
    "newRaster.SetProjection(prj)\n",
    "newRaster.SetGeoTransform(raster.GetGeoTransform())\n",
    "# We can use the same GT because TL is same\n",
    "newBand = newRaster.GetRasterBand(1) # get band 1 so we can fill it with data\n",
    "newBand.WriteArray(arr) # write the array to the band\n",
    "newBand.SetNoDataValue(-9999) # set a pixel nodata value\n",
    "newBand.FlushCache() # flush the cache and clean memory\n",
    "newBand = None\n",
    "newRaster = None\n",
    "print(\"Finished!\")"
   ]
  },
  {
   "cell_type": "code",
   "execution_count": 34,
   "metadata": {},
   "outputs": [
    {
     "name": "stdout",
     "output_type": "stream",
     "text": [
      "x1 size:  200  y1 size:  200\n",
      "\n"
     ]
    }
   ],
   "source": [
    "raster_new = gdal.Open(\"2014_day1_subset.tif\")\n",
    "\n",
    "x1 = raster_new.RasterXSize\n",
    "y1 = raster_new.RasterYSize\n",
    "print(\"x1 size: \", x1, \" y1 size: \", y1)\n",
    "print()"
   ]
  },
  {
   "cell_type": "code",
   "execution_count": 35,
   "metadata": {},
   "outputs": [
    {
     "name": "stdout",
     "output_type": "stream",
     "text": [
      "raster projection : PROJCS[\"Amersfoort / RD New\",GEOGCS[\"Amersfoort\",DATUM[\"Amersfoort\",SPHEROID[\"Bessel 1841\",6377397.155,299.1528128,AUTHORITY[\"EPSG\",\"7004\"]],TOWGS84[565.4171,50.3319,465.5524,-0.398957,0.343988,-1.8774,4.0725],AUTHORITY[\"EPSG\",\"6289\"]],PRIMEM[\"Greenwich\",0,AUTHORITY[\"EPSG\",\"8901\"]],UNIT[\"degree\",0.0174532925199433,AUTHORITY[\"EPSG\",\"9122\"]],AUTHORITY[\"EPSG\",\"4289\"]],PROJECTION[\"Oblique_Stereographic\"],PARAMETER[\"latitude_of_origin\",52.1561605555556],PARAMETER[\"central_meridian\",5.38763888888889],PARAMETER[\"scale_factor\",0.9999079],PARAMETER[\"false_easting\",155000],PARAMETER[\"false_northing\",463000],UNIT[\"metre\",1,AUTHORITY[\"EPSG\",\"9001\"]],AXIS[\"Easting\",EAST],AXIS[\"Northing\",NORTH],AUTHORITY[\"EPSG\",\"28992\"]]\n",
      "\n"
     ]
    }
   ],
   "source": [
    "p1 = raster.GetProjection()\n",
    "print(\"raster projection :\", p1 )\n",
    "print()"
   ]
  },
  {
   "cell_type": "code",
   "execution_count": 36,
   "metadata": {},
   "outputs": [
    {
     "name": "stdout",
     "output_type": "stream",
     "text": [
      "min value: None max value None\n",
      "min1 = 7.73 max1 = 9.70 mean1 = 8.76 std1 = 0.44\n",
      "no data value: -9999.0\n",
      "number of overviews: 0\n"
     ]
    }
   ],
   "source": [
    "band1 = raster_new.GetRasterBand(1)\n",
    "min1 = band1.GetMinimum()\n",
    "max1 = band1.GetMaximum()\n",
    "print(\"min value:\", min1, \"max value\", max1)\n",
    "\n",
    "stats1 = band1.GetStatistics(False, True)\n",
    "\n",
    "print(\"min1 = %.2f max1 = %.2f mean1 = %.2f std1 = %.2f\" %\n",
    "(stats1[0], stats1[1], stats1[2], stats1[3]))\n",
    "print(\"no data value:\", band1.GetNoDataValue())\n",
    "print(\"number of overviews:\", band1.GetOverviewCount())"
   ]
  },
  {
   "cell_type": "markdown",
   "metadata": {},
   "source": [
    "## gdal.Translate() \n",
    "\n",
    "performing subplotting\n",
    "to convert raster data between different\n",
    "formats, potentially performing some\n",
    "operations like\n",
    "• Subsettings,\n",
    "• resampling, and\n",
    "• rescaling pixels\n",
    "in the process."
   ]
  },
  {
   "cell_type": "code",
   "execution_count": 12,
   "metadata": {},
   "outputs": [
    {
     "data": {
      "image/png": "[encoded data removed]",
      "text/plain": [
       "<Figure size 432x288 with 1 Axes>"
      ]
     },
     "metadata": {
      "needs_background": "light"
     },
     "output_type": "display_data"
    },
    {
     "name": "stdout",
     "output_type": "stream",
     "text": [
      "Finished.\n"
     ]
    }
   ],
   "source": [
    "# open dataset\n",
    "raster = gdal.Open(\"2014.tif\")\n",
    "newDataset=gdal.Translate(\"2014_day1_subset.tif\",raster,format=\"GTiff\",srcWin=[0,0,273,101])\n",
    "#To confirm let us show the raster image\n",
    "newBand=newDataset.GetRasterBand(1)\n",
    "px=gdarr.BandReadAsArray(newBand, 0, 0, newDataset.RasterXSize, newDataset.RasterYSize)\n",
    "px[px == -9999] = None\n",
    "plt.imshow(px)\n",
    "plt.show()\n",
    "print(\"Finished.\")"
   ]
  },
  {
   "cell_type": "markdown",
   "metadata": {},
   "source": [
    "## gdal.Warp() reprojecting\n",
    "\n",
    "In this example we used format=“Mem“ therefore the result is not written\n",
    "on disk, only returned by the method.\n",
    "an image mosaicing, reprojection and\n",
    "warping function"
   ]
  },
  {
   "cell_type": "code",
   "execution_count": 14,
   "metadata": {},
   "outputs": [
    {
     "data": {
      "image/png": "[encoded data removed]",
      "text/plain": [
       "<Figure size 432x288 with 1 Axes>"
      ]
     },
     "metadata": {
      "needs_background": "light"
     },
     "output_type": "display_data"
    },
    {
     "name": "stdout",
     "output_type": "stream",
     "text": [
      "Finished.\n"
     ]
    }
   ],
   "source": [
    "# open dataset\n",
    "raster = gdal.Open(\"2014.tif\")\n",
    "newDataset=gdal.Warp('',raster,format=\"Mem\", dstSRS='EPSG:4326')\n",
    "#To confirm let us show the raster image\n",
    "newBand=newDataset.GetRasterBand(1)\n",
    "px=gdarr.BandReadAsArray(newBand, 0, 0, newDataset.RasterXSize, newDataset.RasterYSize)\n",
    "px[px == -9999] = None\n",
    "plt.imshow(px)\n",
    "plt.show()\n",
    "print(\"Finished.\")"
   ]
  }
 ],
 "metadata": {
  "interpreter": {
   "hash": "de304242462414d7ec45d2f89cbd3fecc8df59d36561c1544d4aa4efbbd17779"
  },
  "kernelspec": {
   "display_name": "Python 3.7.10 64-bit ('tmt': conda)",
   "name": "python3"
  },
  "language_info": {
   "codemirror_mode": {
    "name": "ipython",
    "version": 3
   },
   "file_extension": ".py",
   "mimetype": "text/x-python",
   "name": "python",
   "nbconvert_exporter": "python",
   "pygments_lexer": "ipython3",
   "version": "3.7.10"
  },
  "orig_nbformat": 4
 },
 "nbformat": 4,
 "nbformat_minor": 2
}
